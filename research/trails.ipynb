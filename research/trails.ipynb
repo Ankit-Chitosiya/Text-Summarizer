{
 "cells": [
  {
   "cell_type": "code",
   "execution_count": 1,
   "id": "8439540f",
   "metadata": {},
   "outputs": [],
   "source": [
    "d = {\"key\":\"value\", \"key2\":\"value2\", \"key3\":\"value3\"}"
   ]
  },
  {
   "cell_type": "code",
   "execution_count": 2,
   "id": "a324e975",
   "metadata": {},
   "outputs": [
    {
     "data": {
      "text/plain": [
       "'value'"
      ]
     },
     "execution_count": 2,
     "metadata": {},
     "output_type": "execute_result"
    }
   ],
   "source": [
    "d[\"key\"]"
   ]
  },
  {
   "cell_type": "code",
   "execution_count": 3,
   "id": "95b53e57",
   "metadata": {},
   "outputs": [],
   "source": [
    "from box import ConfigBox"
   ]
  },
  {
   "cell_type": "code",
   "execution_count": 4,
   "id": "0584d082",
   "metadata": {},
   "outputs": [],
   "source": [
    "d2 = ConfigBox({\"key\":\"value\", \"key2\":\"value2\"})"
   ]
  },
  {
   "cell_type": "code",
   "execution_count": 5,
   "id": "bd9b1313",
   "metadata": {},
   "outputs": [
    {
     "data": {
      "text/plain": [
       "ConfigBox({'key': 'value', 'key2': 'value2'})"
      ]
     },
     "execution_count": 5,
     "metadata": {},
     "output_type": "execute_result"
    }
   ],
   "source": [
    "d2"
   ]
  },
  {
   "cell_type": "code",
   "execution_count": 6,
   "id": "b724785a",
   "metadata": {},
   "outputs": [
    {
     "data": {
      "text/plain": [
       "'value2'"
      ]
     },
     "execution_count": 6,
     "metadata": {},
     "output_type": "execute_result"
    }
   ],
   "source": [
    "d2.key2"
   ]
  },
  {
   "cell_type": "code",
   "execution_count": 7,
   "id": "c7c5e30d",
   "metadata": {},
   "outputs": [],
   "source": [
    "def get_product(x: int, y: int) -> int:\n",
    "    return x * y"
   ]
  },
  {
   "cell_type": "code",
   "execution_count": 8,
   "id": "2ef45fb7",
   "metadata": {},
   "outputs": [
    {
     "data": {
      "text/plain": [
       "'222'"
      ]
     },
     "execution_count": 8,
     "metadata": {},
     "output_type": "execute_result"
    }
   ],
   "source": [
    "get_product(\"2\", 3)"
   ]
  },
  {
   "cell_type": "code",
   "execution_count": 10,
   "id": "f40aaeea",
   "metadata": {},
   "outputs": [
    {
     "name": "stdout",
     "output_type": "stream",
     "text": [
      "Requirement already satisfied: ensure in c:\\users\\asmit\\miniconda3\\envs\\textsummarization\\lib\\site-packages (1.0.4)Note: you may need to restart the kernel to use updated packages.\n",
      "\n",
      "Requirement already satisfied: six>=1.11.0 in c:\\users\\asmit\\miniconda3\\envs\\textsummarization\\lib\\site-packages (from ensure) (1.16.0)\n"
     ]
    }
   ],
   "source": [
    "pip install ensure"
   ]
  },
  {
   "cell_type": "code",
   "execution_count": 12,
   "id": "e4f6a558",
   "metadata": {},
   "outputs": [],
   "source": [
    "from ensure import ensure_annotations"
   ]
  },
  {
   "cell_type": "code",
   "execution_count": 13,
   "id": "b3881b75",
   "metadata": {},
   "outputs": [
    {
     "name": "stdout",
     "output_type": "stream",
     "text": [
      "Requirement already satisfied: stack_data in c:\\users\\asmit\\miniconda3\\envs\\textsummarization\\lib\\site-packages (0.6.2)Note: you may need to restart the kernel to use updated packages.\n",
      "\n",
      "Collecting stack_data\n",
      "  Using cached stack_data-0.6.3-py3-none-any.whl.metadata (18 kB)\n",
      "Requirement already satisfied: IPython in c:\\users\\asmit\\miniconda3\\envs\\textsummarization\\lib\\site-packages (8.12.2)\n",
      "Collecting IPython\n",
      "  Downloading ipython-8.12.3-py3-none-any.whl.metadata (5.7 kB)\n",
      "Collecting executing>=1.2.0 (from stack_data)\n",
      "  Using cached executing-2.2.0-py2.py3-none-any.whl.metadata (8.9 kB)\n",
      "Requirement already satisfied: asttokens>=2.1.0 in c:\\users\\asmit\\miniconda3\\envs\\textsummarization\\lib\\site-packages (from stack_data) (3.0.0)\n",
      "Requirement already satisfied: pure-eval in c:\\users\\asmit\\miniconda3\\envs\\textsummarization\\lib\\site-packages (from stack_data) (0.2.3)\n",
      "Requirement already satisfied: backcall in c:\\users\\asmit\\miniconda3\\envs\\textsummarization\\lib\\site-packages (from IPython) (0.2.0)\n",
      "Requirement already satisfied: decorator in c:\\users\\asmit\\miniconda3\\envs\\textsummarization\\lib\\site-packages (from IPython) (5.1.1)\n",
      "Requirement already satisfied: jedi>=0.16 in c:\\users\\asmit\\miniconda3\\envs\\textsummarization\\lib\\site-packages (from IPython) (0.19.1)\n",
      "Requirement already satisfied: matplotlib-inline in c:\\users\\asmit\\miniconda3\\envs\\textsummarization\\lib\\site-packages (from IPython) (0.1.7)\n",
      "Requirement already satisfied: pickleshare in c:\\users\\asmit\\miniconda3\\envs\\textsummarization\\lib\\site-packages (from IPython) (0.7.5)\n",
      "Requirement already satisfied: prompt-toolkit!=3.0.37,<3.1.0,>=3.0.30 in c:\\users\\asmit\\miniconda3\\envs\\textsummarization\\lib\\site-packages (from IPython) (3.0.48)\n",
      "Requirement already satisfied: pygments>=2.4.0 in c:\\users\\asmit\\miniconda3\\envs\\textsummarization\\lib\\site-packages (from IPython) (2.18.0)\n",
      "Requirement already satisfied: traitlets>=5 in c:\\users\\asmit\\miniconda3\\envs\\textsummarization\\lib\\site-packages (from IPython) (5.14.3)\n",
      "Requirement already satisfied: typing-extensions in c:\\users\\asmit\\miniconda3\\envs\\textsummarization\\lib\\site-packages (from IPython) (4.12.2)\n",
      "Requirement already satisfied: colorama in c:\\users\\asmit\\miniconda3\\envs\\textsummarization\\lib\\site-packages (from IPython) (0.4.6)\n",
      "Requirement already satisfied: parso<0.9.0,>=0.8.3 in c:\\users\\asmit\\miniconda3\\envs\\textsummarization\\lib\\site-packages (from jedi>=0.16->IPython) (0.8.4)\n",
      "Requirement already satisfied: wcwidth in c:\\users\\asmit\\miniconda3\\envs\\textsummarization\\lib\\site-packages (from prompt-toolkit!=3.0.37,<3.1.0,>=3.0.30->IPython) (0.2.13)\n",
      "Using cached stack_data-0.6.3-py3-none-any.whl (24 kB)\n",
      "Downloading ipython-8.12.3-py3-none-any.whl (798 kB)\n",
      "   ---------------------------------------- 0.0/798.3 kB ? eta -:--:--\n",
      "   ---------------------------------------- 0.0/798.3 kB ? eta -:--:--\n",
      "   ---------------------------------------- 0.0/798.3 kB ? eta -:--:--\n",
      "   ---------------------------------------- 0.0/798.3 kB ? eta -:--:--\n",
      "   ---------------------------------------- 0.0/798.3 kB ? eta -:--:--\n",
      "   ---------------------------------------- 0.0/798.3 kB ? eta -:--:--\n",
      "   ---------------------------------------- 0.0/798.3 kB ? eta -:--:--\n",
      "   ---------------------------------------- 0.0/798.3 kB ? eta -:--:--\n",
      "   ---------------------------------------- 0.0/798.3 kB ? eta -:--:--\n",
      "   ------------- -------------------------- 262.1/798.3 kB ? eta -:--:--\n",
      "   ------------- -------------------------- 262.1/798.3 kB ? eta -:--:--\n",
      "   ------------- -------------------------- 262.1/798.3 kB ? eta -:--:--\n",
      "   ------------- -------------------------- 262.1/798.3 kB ? eta -:--:--\n",
      "   ------------- -------------------------- 262.1/798.3 kB ? eta -:--:--\n",
      "   ------------- -------------------------- 262.1/798.3 kB ? eta -:--:--\n",
      "   ------------- -------------------------- 262.1/798.3 kB ? eta -:--:--\n",
      "   ------------------------ ------------- 524.3/798.3 kB 176.6 kB/s eta 0:00:02\n",
      "   ------------------------ ------------- 524.3/798.3 kB 176.6 kB/s eta 0:00:02\n",
      "   ------------------------ ------------- 524.3/798.3 kB 176.6 kB/s eta 0:00:02\n",
      "   ------------------------ ------------- 524.3/798.3 kB 176.6 kB/s eta 0:00:02\n",
      "   ------------------------ ------------- 524.3/798.3 kB 176.6 kB/s eta 0:00:02\n",
      "   ------------------------ ------------- 524.3/798.3 kB 176.6 kB/s eta 0:00:02\n",
      "   -------------------------------------- 798.3/798.3 kB 190.7 kB/s eta 0:00:00\n",
      "Using cached executing-2.2.0-py2.py3-none-any.whl (26 kB)\n",
      "Installing collected packages: executing, stack_data, IPython\n",
      "  Attempting uninstall: executing\n",
      "    Found existing installation: executing 0.8.2\n",
      "    Uninstalling executing-0.8.2:\n",
      "      Successfully uninstalled executing-0.8.2\n",
      "  Attempting uninstall: stack_data\n",
      "    Found existing installation: stack-data 0.6.2\n",
      "    Uninstalling stack-data-0.6.2:\n",
      "      Successfully uninstalled stack-data-0.6.2\n",
      "  Attempting uninstall: IPython\n",
      "    Found existing installation: ipython 8.12.2\n",
      "    Uninstalling ipython-8.12.2:\n",
      "      Successfully uninstalled ipython-8.12.2\n",
      "Successfully installed IPython-8.12.3 executing-2.2.0 stack_data-0.6.3\n"
     ]
    },
    {
     "name": "stderr",
     "output_type": "stream",
     "text": [
      "ERROR: pip's dependency resolver does not currently take into account all the packages that are installed. This behaviour is the source of the following dependency conflicts.\n",
      "box 0.1.5 requires executing==0.8.2, but you have executing 2.2.0 which is incompatible.\n"
     ]
    }
   ],
   "source": [
    "pip install --upgrade stack_data IPython\n"
   ]
  },
  {
   "cell_type": "code",
   "execution_count": 14,
   "id": "31925f19",
   "metadata": {},
   "outputs": [],
   "source": [
    "@ensure_annotations\n",
    "def get_product(x: int, y: int) -> int:\n",
    "    return x * y"
   ]
  },
  {
   "cell_type": "code",
   "execution_count": 2,
   "id": "a019a468",
   "metadata": {},
   "outputs": [
    {
     "name": "stdout",
     "output_type": "stream",
     "text": [
      "hello\n"
     ]
    }
   ],
   "source": [
    "print(\"hello\")"
   ]
  },
  {
   "cell_type": "code",
   "execution_count": null,
   "id": "cf22925e",
   "metadata": {},
   "outputs": [],
   "source": []
  }
 ],
 "metadata": {
  "kernelspec": {
   "display_name": "TextSummarization",
   "language": "python",
   "name": "python3"
  },
  "language_info": {
   "codemirror_mode": {
    "name": "ipython",
    "version": 3
   },
   "file_extension": ".py",
   "mimetype": "text/x-python",
   "name": "python",
   "nbconvert_exporter": "python",
   "pygments_lexer": "ipython3",
   "version": "3.8.20"
  }
 },
 "nbformat": 4,
 "nbformat_minor": 5
}
